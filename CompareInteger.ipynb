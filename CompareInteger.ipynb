{
 "cells": [
  {
   "cell_type": "code",
   "execution_count": 124,
   "id": "d4fefe10-4731-4be6-886b-83adcd896177",
   "metadata": {
    "tags": []
   },
   "outputs": [],
   "source": [
    "from qiskit import QuantumRegister, ClassicalRegister\n",
    "from qiskit import QuantumCircuit, execute\n",
    "from qiskit.circuit.library import IntegerComparator\n",
    "from qiskit import Aer"
   ]
  },
  {
   "cell_type": "code",
   "execution_count": 684,
   "id": "d841ec59-4337-4138-8631-67e2add6a3b1",
   "metadata": {
    "tags": []
   },
   "outputs": [],
   "source": [
    "backend = Aer.get_backend('aer_simulator')"
   ]
  },
  {
   "cell_type": "code",
   "execution_count": 685,
   "id": "08510a3e-54d4-456c-9860-b6b12cdf3848",
   "metadata": {
    "tags": []
   },
   "outputs": [
    {
     "name": "stdout",
     "output_type": "stream",
     "text": [
      "4\n"
     ]
    }
   ],
   "source": [
    "a =10\n",
    "binary = format(a,'b')\n",
    "integer_list = [int(char) for char in binary]\n",
    "\n",
    "circuit = QuantumCircuit(len(integer_list)*2,1)\n",
    "print(len(integer_list))\n",
    "\n",
    "count = 0 \n",
    "for i in range(len(integer_list)):\n",
    "    if integer_list[i] == 1:\n",
    "        circuit.x(i)\n",
    "        count+=1\n",
    "\n",
    "    comparator = IntegerComparator(num_state_qubits = count, value = a, geq = True)\n",
    "#num_state_qubits: number of qubits that will hold the integer\n",
    "#value: integer that we want to compare\n",
    "#geq: Boolean Flag (i >= value)"
   ]
  },
  {
   "cell_type": "code",
   "execution_count": 686,
   "id": "e4d0ddd9-c013-48d0-a761-045133497cf4",
   "metadata": {
    "tags": []
   },
   "outputs": [
    {
     "data": {
      "text/plain": [
       "<qiskit.circuit.instructionset.InstructionSet at 0x7f8df1292770>"
      ]
     },
     "execution_count": 686,
     "metadata": {},
     "output_type": "execute_result"
    }
   ],
   "source": [
    "\n",
    "circuit = circuit.compose(comparator)\n",
    "\n",
    "circuit.measure(count,0)"
   ]
  },
  {
   "cell_type": "code",
   "execution_count": 687,
   "id": "dc32ba7c-b2fa-478d-9603-aaf3fa63ee2d",
   "metadata": {
    "tags": []
   },
   "outputs": [
    {
     "data": {
      "image/png": "[encoded data removed]",
      "text/plain": [
       "<Figure size 371.107x785.944 with 1 Axes>"
      ]
     },
     "execution_count": 687,
     "metadata": {},
     "output_type": "execute_result"
    }
   ],
   "source": [
    "circuit.draw()"
   ]
  },
  {
   "cell_type": "code",
   "execution_count": 688,
   "id": "eb3caff0-ddc9-4dab-b4c5-9ba936467081",
   "metadata": {
    "tags": []
   },
   "outputs": [
    {
     "name": "stdout",
     "output_type": "stream",
     "text": [
      "{'1': 6}\n"
     ]
    }
   ],
   "source": [
    "n = 6\n",
    "job = execute(circuit, backend, shots=n)\n",
    "counts = job.result().get_counts()\n",
    "print(counts)\n",
    "\n"
   ]
  },
  {
   "cell_type": "code",
   "execution_count": null,
   "id": "ed95707b-d75d-40f7-ab8d-a6ca67d6a033",
   "metadata": {},
   "outputs": [],
   "source": []
  }
 ],
 "metadata": {
  "kernelspec": {
   "display_name": "Python 3 (ipykernel)",
   "language": "python",
   "name": "python3"
  },
  "language_info": {
   "codemirror_mode": {
    "name": "ipython",
    "version": 3
   },
   "file_extension": ".py",
   "mimetype": "text/x-python",
   "name": "python",
   "nbconvert_exporter": "python",
   "pygments_lexer": "ipython3",
   "version": "3.10.8"
  },
  "widgets": {
   "application/vnd.jupyter.widget-state+json": {
    "state": {},
    "version_major": 2,
    "version_minor": 0
   }
  }
 },
 "nbformat": 4,
 "nbformat_minor": 5
}
